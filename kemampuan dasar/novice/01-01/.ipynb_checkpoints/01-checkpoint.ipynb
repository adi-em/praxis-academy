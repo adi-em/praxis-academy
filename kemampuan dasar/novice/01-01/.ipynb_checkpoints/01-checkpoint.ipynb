{
 "cells": [
  {
   "cell_type": "markdown",
   "metadata": {},
   "source": [
    "# Tiper Data dan Variabel\n",
    "\n",
    "## Variabel\n",
    "\n",
    "Variabel merupakan tempat menyimpan data, variabel bersifat mutlak tidak bisa berubah-ubah\n",
    "aturan penulisan variabel\n",
    "- Nama variabel boleh diawali menggunakan huruf atau garis bawah (_), contoh: nama, _nama, namaKu, nama_variabel.\n",
    "- Karakter selanjutnya dapat berupa huruf, garis bawah (_) atau angka, contoh: __nama, n2, nilai1.\n",
    "- Karakter pada nama variabel bersifat sensitif (case-sensitif). Artinya huruf besar dan kecil dibedakan. Misalnya, Adi dan adi, keduanya adalah variabel yang berbeda.\n",
    "- Nama variabel tidak boleh menggunakan kata kunci yang sudah ada dalam python seperti if, while, for, dsb."
   ]
  },
  {
   "cell_type": "code",
   "execution_count": 10,
   "metadata": {},
   "outputs": [
    {
     "name": "stdout",
     "output_type": "stream",
     "text": [
      "adi\n",
      "ida\n"
     ]
    }
   ],
   "source": [
    "nama = \"adi\"    #nama sebagai variabel dan adi adalah isi dari variabel\n",
    "Nama = \"ida\"\n",
    "\n",
    "print(nama)\n",
    "print(Nama)\n"
   ]
  },
  {
   "cell_type": "markdown",
   "metadata": {},
   "source": [
    "untuk menghapus variabel bisa dengan fungsi *del()"
   ]
  },
  {
   "cell_type": "markdown",
   "metadata": {},
   "source": []
  },
  {
   "cell_type": "markdown",
   "metadata": {},
   "source": [
    "## Tipe Data\n",
    "\n",
    "Cara mengisi nilai variabel ditentukan dengan jenis datanya, misalkan untuk tipe data teks (string) maka harus diapit dengan tanda petik (\"...\"). Sedangkan untuk angka (integer) dan boolean tidak perlu diapit dengan tanda petik."
   ]
  },
  {
   "cell_type": "code",
   "execution_count": 14,
   "metadata": {},
   "outputs": [
    {
     "name": "stdout",
     "output_type": "stream",
     "text": [
      "yogyakarta 17 (175, 35)\n"
     ]
    },
    {
     "data": {
      "text/plain": [
       "str"
      ]
     },
     "execution_count": 14,
     "metadata": {},
     "output_type": "execute_result"
    }
   ],
   "source": [
    "alamat = \"yogyakarta\"       # string\n",
    "umur = 17                   # integer\n",
    "tinggi = 175,35            # oolean\n",
    "\n",
    "print(alamat, umur, tinggi)\n"
   ]
  },
  {
   "cell_type": "markdown",
   "metadata": {},
   "source": [
    "Untuk memeriksa tipe data pada suatu variabel, kita bisa menggunakan fungsi *type().\n",
    "\n",
    "#### jenis-jenis tipe data\n",
    "\n",
    "1.tipe data angka\n",
    "\n",
    "tipe data angka dibagi menjadi beberapa\n",
    "\n",
    "- int (integer) adalah bilangan bulat\n",
    "- float bilangan pecahan"
   ]
  },
  {
   "cell_type": "code",
   "execution_count": 16,
   "metadata": {},
   "outputs": [
    {
     "name": "stdout",
     "output_type": "stream",
     "text": [
      "10000 27.23\n"
     ]
    }
   ],
   "source": [
    "integer = 10000           # int\n",
    "berat = 27.23             # float\n",
    "\n",
    "print(integer, berat)"
   ]
  },
  {
   "cell_type": "code",
   "execution_count": 24,
   "metadata": {},
   "outputs": [
    {
     "name": "stdout",
     "output_type": "stream",
     "text": [
      "3.3333333333333335\n"
     ]
    }
   ],
   "source": [
    "a = 10\n",
    "b = 3\n",
    "c = a / b\n",
    "\n",
    "print(c)"
   ]
  },
  {
   "cell_type": "markdown",
   "metadata": {},
   "source": [
    "2.tipe data teks\n",
    "\n",
    "Tipe data teks dibagi menjadi dua jenis\n",
    "\n",
    "- char: karakter\n",
    "- string: kumpulan karakter\n",
    "\n",
    "Penulisan tipe data teks harus diapit dengan tanda petik. Bisa menggunakan petik tunggal ('...'), ganda (\"...\"), dan tiga ('''...''' atau \"\"\"...\"\"\")."
   ]
  },
  {
   "cell_type": "code",
   "execution_count": 20,
   "metadata": {},
   "outputs": [
    {
     "name": "stdout",
     "output_type": "stream",
     "text": [
      "adi L  jl. wahid hasyim, gaten, condong catur, jogja\n"
     ]
    }
   ],
   "source": [
    "nama = \"adi\"\n",
    "jenis_kelamin = \"L\"\n",
    "alamat = \"\"\" jl. wahid hasyim, gaten, condong catur, jogja\"\"\"\n",
    "\n",
    "print(nama, jenis_kelamin, alamat)"
   ]
  },
  {
   "cell_type": "markdown",
   "metadata": {},
   "source": [
    "3.tipe data boolean\n",
    "\n",
    "Tipe data boolean adalah tipe data yang hanya memiliki dua nilai yaitu True dan False atau 0 dan 1.\n",
    "\n",
    "Penulisan True dan False, huruf pertamnya harus kapital dan tanpa tanda petik."
   ]
  },
  {
   "cell_type": "markdown",
   "metadata": {},
   "source": [
    "fungsi-fungsi untuk mengubah tipe data\n",
    "\n",
    "- nt() untuk mengubah menjadi integer;\n",
    "- long() untuk mengubah menjadi integer panjang;\n",
    "- float() untuk mengubah menjadi float;\n",
    "- bool() untuk mengubah menjadi boolean;\n",
    "- chr() untuk mengubah menjadi karakter;\n",
    "- str() untuk mengubah menjadi string.\n",
    "- bin() untuk mengubah menjadi bilangan Biner.\n",
    "- hex() untuk mengubah menjadi bilangan Heksadesimal.\n",
    "- oct() untuk mengubah menjadi bilangan okta."
   ]
  },
  {
   "cell_type": "markdown",
   "metadata": {},
   "source": [
    "3.konstanta\n",
    "\n",
    "Konstanta (Constant) adalah tipe dari variable yang nilainya tidak dapat diubah. Konstanta sangat berguna sebagai wadah yang dapat menyimpan informasi yang tidak dapat diubah.\n",
    "\n",
    "pada Python, konstanta biasanya di deklarasikan dan ditetapkan pada sebuah modul. Disini, modul adalah file baru yang berisi variabel, fungsi, dll yang dapat di import kedalam file utama. Didalam modul, konstanta ditulis dengan huruf kapital dan underscore untuk memisahkan kata."
   ]
  },
  {
   "cell_type": "code",
   "execution_count": null,
   "metadata": {},
   "outputs": [],
   "source": [
    "#file konstanta\n",
    "PI = 3.14\n",
    "GRAFITASI = 9.8\n",
    "\n",
    "#file pemanggil\n",
    "import konstanta\n",
    "\n",
    "print(konstanta.PI)\n",
    "print(konstanta.GRAFITASI)\n"
   ]
  },
  {
   "cell_type": "markdown",
   "metadata": {},
   "source": [
    "Aturan dalam Nama Konvensi untuk Variabel dan Konstanta\n",
    "\n",
    "jangan pernah mengawali nama variabel dengan angka/digit\n",
    "Konstanta dan nama variabel harus berupa kombinasi huruf kecil (a sampai z) atau huruf besar (A sampai Z), atau digit/angka (0 sampai 9), atau underscore \"_\". Contoh:\n",
    "\n",
    "adi_em \n",
    "\n",
    "ADIEM\n",
    "\n",
    "adiEM\n",
    "\n",
    "AdiEm\n",
    "\n",
    "gunakanlah huruf kapital untuk mendeklarasikan konstanta contoh:\n",
    "\n",
    "KONSTANTA\n",
    "\n",
    "CATATAN"
   ]
  },
  {
   "cell_type": "markdown",
   "metadata": {},
   "source": [
    "4.operator pada python\n",
    "\n",
    "Operator digunakan untuk melakukan operasi pada variabel dan nilai.\n",
    "ada beberapa operator\n",
    "\n",
    "- Operator aritmatika\n",
    "- Operator penugasan\n",
    "- Operator perbandingan\n",
    "- Operator logika\n",
    "- Operator identitas\n",
    "- Operator keanggotaan\n",
    "- Operator bitwise\n",
    "\n",
    "lebih jelas jika mau belajar operator pythhon bisa buka di https://www.w3schools.com/python/python_operators.asp"
   ]
  },
  {
   "cell_type": "code",
   "execution_count": null,
   "metadata": {},
   "outputs": [],
   "source": []
  }
 ],
 "metadata": {
  "celltoolbar": "Edit Metadata",
  "kernelspec": {
   "display_name": "Python 3",
   "language": "python",
   "name": "python3"
  },
  "language_info": {
   "codemirror_mode": {
    "name": "ipython",
    "version": 3
   },
   "file_extension": ".py",
   "mimetype": "text/x-python",
   "name": "python",
   "nbconvert_exporter": "python",
   "pygments_lexer": "ipython3",
   "version": "3.8.5"
  }
 },
 "nbformat": 4,
 "nbformat_minor": 4
}
