{
 "cells": [
  {
   "cell_type": "code",
   "execution_count": null,
   "metadata": {},
   "outputs": [],
   "source": [
    "sapa = \"hello \"\n",
    "siapa = \"world\"\n",
    "\n",
    "ucapan = sapa + siapa\n",
    "print(ucapan)"
   ]
  },
  {
   "cell_type": "code",
   "execution_count": null,
   "metadata": {},
   "outputs": [],
   "source": [
    "def sapa():\n",
    "    print('hello world')\n",
    "\n",
    "sapa()\n",
    "print(sapa)   #cara mengetahui kalau sapa itu fungsi"
   ]
  },
  {
   "cell_type": "code",
   "execution_count": null,
   "metadata": {},
   "outputs": [],
   "source": [
    "def angka(a, b):\n",
    "    return a+b\n",
    "\n",
    "c = angka(5,6)\n",
    "print(c)"
   ]
  },
  {
   "cell_type": "code",
   "execution_count": null,
   "metadata": {},
   "outputs": [],
   "source": [
    "def x(a):\n",
    "    print('hello adi')\n",
    "    return a\n",
    "\n",
    "def y(func_to_run, a):\n",
    "    return func_to_run(a)\n",
    "\n",
    "y(x, 3)"
   ]
  }
 ],
 "metadata": {
  "kernelspec": {
   "display_name": "Python 3",
   "language": "python",
   "name": "python3"
  },
  "language_info": {
   "codemirror_mode": {
    "name": "ipython",
    "version": 3
   },
   "file_extension": ".py",
   "mimetype": "text/x-python",
   "name": "python",
   "nbconvert_exporter": "python",
   "pygments_lexer": "ipython3",
   "version": "3.8.5"
  }
 },
 "nbformat": 4,
 "nbformat_minor": 4
}
