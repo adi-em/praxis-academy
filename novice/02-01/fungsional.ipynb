{
 "cells": [
  {
   "cell_type": "markdown",
   "metadata": {},
   "source": [
    "# Pemrograman fungsional\n",
    "\n",
    "adalah paradigma pengkodean di mana blok penyusunnya adalah nilai yang tidak dapat diubah dan \"fungsi murni\" yang tidak berbagi status dengan fungsi lain.\n",
    "pemrograman fungsional tidak melakukan iterasi dalam struktur data seperti list, stack dan lain-lain. Untuk melakukan iterasi terhadap data, teknik yang digunakan biasanya dengan fungsi map() dan reduce().\n",
    "Cara kerjanya, fungsi map() berguna mengumpulkan item sebagai elemen baru dan disimpan dalam koleksi kosong. Fungsi map() melakukan iterasi untuk setiap koleksi dan menyimpan setiap nilai dalam koleksi baru yang kemudian dikembalikan sebagai koleksi baru.\n",
    "lamba biasanya di pakai untuk program yang simple, atau satu baris"
   ]
  },
  {
   "cell_type": "code",
   "execution_count": 26,
   "metadata": {},
   "outputs": [
    {
     "data": {
      "text/plain": [
       "30"
      ]
     },
     "execution_count": 26,
     "metadata": {},
     "output_type": "execute_result"
    }
   ],
   "source": [
    "def add(a, b):\n",
    "    return a * b\n",
    "\n",
    "perkalian = add\n",
    "perkalian(5, 6)"
   ]
  },
  {
   "cell_type": "markdown",
   "metadata": {},
   "source": [
    "dengan lambda kita bisa eksekusi langsung tanpa harus memanggil namanya"
   ]
  },
  {
   "cell_type": "code",
   "execution_count": 16,
   "metadata": {},
   "outputs": [
    {
     "data": {
      "text/plain": [
       "30"
      ]
     },
     "execution_count": 16,
     "metadata": {},
     "output_type": "execute_result"
    }
   ],
   "source": [
    "(lambda a,b: a * b)(5,6)"
   ]
  },
  {
   "cell_type": "code",
   "execution_count": 17,
   "metadata": {},
   "outputs": [
    {
     "data": {
      "text/plain": [
       "52"
      ]
     },
     "execution_count": 17,
     "metadata": {},
     "output_type": "execute_result"
    }
   ],
   "source": [
    "(lambda a,b: a**2 + b**2)(4,6)"
   ]
  },
  {
   "cell_type": "code",
   "execution_count": 18,
   "metadata": {},
   "outputs": [
    {
     "data": {
      "text/plain": [
       "[2, 4, 6, 8, 10, 12]"
      ]
     },
     "execution_count": 18,
     "metadata": {},
     "output_type": "execute_result"
    }
   ],
   "source": [
    "val = [1, 2, 3, 4, 5, 6]\n",
    "\n",
    "list(map(lambda x: x * 2, val))   #mengkalikan setiap item dengan 2"
   ]
  },
  {
   "cell_type": "code",
   "execution_count": null,
   "metadata": {},
   "outputs": [],
   "source": []
  },
  {
   "cell_type": "code",
   "execution_count": 60,
   "metadata": {},
   "outputs": [
    {
     "data": {
      "text/plain": [
       "['Isaac Asimov',\n",
       " 'Margaret Atwood',\n",
       " 'Ray Bradbury',\n",
       " 'Octavia Butler',\n",
       " 'Usula K Le Guin',\n",
       " 'Neal Stephenson']"
      ]
     },
     "execution_count": 60,
     "metadata": {},
     "output_type": "execute_result"
    }
   ],
   "source": [
    "authors = ['Octavia Butler', 'Isaac Asimov', 'Neal Stephenson', 'Margaret Atwood', 'Usula K Le Guin', 'Ray Bradbury']\n",
    "sorted(authors, key=len)  # Returns list ordered by length of author name\n",
    "sorted(authors, key=lambda name: name.split()[-1]) # Returns list ordered alphabetically by last name."
   ]
  },
  {
   "cell_type": "code",
   "execution_count": 46,
   "metadata": {},
   "outputs": [
    {
     "name": "stdout",
     "output_type": "stream",
     "text": [
      "1\n"
     ]
    }
   ],
   "source": [
    "def fib(n):\n",
    "    if n == 0: return 0\n",
    "    elif n == 1: return 1\n",
    "    else: return fib(n-1)+fib(n-2)\n",
    "    \n",
    "a = fib(2)             #0, 1, 1, 2, 3, 5, 8, 13, 21, 34, 55, 89, ..., dst.\n",
    "print(a)"
   ]
  },
  {
   "cell_type": "markdown",
   "metadata": {},
   "source": [
    "contoh kode procedural"
   ]
  },
  {
   "cell_type": "code",
   "execution_count": 50,
   "metadata": {},
   "outputs": [
    {
     "name": "stdout",
     "output_type": "stream",
     "text": [
      "274624\n"
     ]
    }
   ],
   "source": [
    "# procedural code\n",
    "starting_number = 8\n",
    "\n",
    "# get the square of the number\n",
    "square = starting_number ** 2\n",
    "\n",
    "# increment the number by 1\n",
    "increment = square + 1\n",
    "\n",
    "# cube of the number\n",
    "cube = increment ** 3\n",
    "\n",
    "# decrease the cube by 1\n",
    "decrement = cube - 1\n",
    "\n",
    "# get the final result\n",
    "result = print(decrement)"
   ]
  },
  {
   "cell_type": "code",
   "execution_count": null,
   "metadata": {},
   "outputs": [],
   "source": [
    "contoh kode procedural di atas menjadi kode fungsional"
   ]
  },
  {
   "cell_type": "code",
   "execution_count": 49,
   "metadata": {},
   "outputs": [
    {
     "name": "stdout",
     "output_type": "stream",
     "text": [
      "274624\n"
     ]
    }
   ],
   "source": [
    "# define a function `call` where you provide the function and the arguments\n",
    "def call(x, f):\n",
    "    return f(x)\n",
    "\n",
    "square = lambda x : x*x             # define a function that returns the square\n",
    "\n",
    "increment = lambda x : x+1           # define a function that returns the increment\n",
    "\n",
    "cube = lambda x : x*x*x               # define a function that returns the cube\n",
    "\n",
    "decrement = lambda x : x-1            # define a function that returns the decrement\n",
    "\n",
    "funcs = [square, increment, cube, decrement]    # put all the functions in a list in the order that you want to execute them\n",
    "\n",
    "# bring it all together. Below is the non functional part. \n",
    "# in functional programming you separate the functional and the non functional parts.\n",
    "from functools import reduce \n",
    "print(reduce(call, funcs, 8))"
   ]
  },
  {
   "cell_type": "markdown",
   "metadata": {},
   "source": [
    "#### Immutability"
   ]
  },
  {
   "cell_type": "code",
   "execution_count": 59,
   "metadata": {},
   "outputs": [
    {
     "name": "stdout",
     "output_type": "stream",
     "text": [
      "[4, 5]\n",
      "[4, 5]\n",
      "['Tim', 15, [4, 5]]\n",
      "[4, 5, 6]\n"
     ]
    }
   ],
   "source": [
    "f_list = ['Tim', 10, [4, 5]]\n",
    "f_tuple = ('Tim', 10, [4, 5])\n",
    "\n",
    "print(f_list[2])  \n",
    "print(f_tuple[2])\n",
    "\n",
    "f_list[1] = 15     #mengubah isi list 10 menjadi 15\n",
    "print(f_list)\n",
    "#f_tuple[1] = 15    #mengubah isi tuple 10 menjadi 15\n",
    "\n",
    "f_tuple[2].append(6) #menambah isi tuple \n",
    "print(f_tuple[2])"
   ]
  }
 ],
 "metadata": {
  "kernelspec": {
   "display_name": "Python 3",
   "language": "python",
   "name": "python3"
  },
  "language_info": {
   "codemirror_mode": {
    "name": "ipython",
    "version": 3
   },
   "file_extension": ".py",
   "mimetype": "text/x-python",
   "name": "python",
   "nbconvert_exporter": "python",
   "pygments_lexer": "ipython3",
   "version": "3.8.5"
  }
 },
 "nbformat": 4,
 "nbformat_minor": 4
}
