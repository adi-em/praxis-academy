{
 "cells": [
  {
   "cell_type": "markdown",
   "metadata": {},
   "source": [
    "# Pemrograman fungsional\n",
    "\n",
    "adalah paradigma pengkodean di mana blok penyusunnya adalah nilai yang tidak dapat diubah dan \"fungsi murni\" yang tidak berbagi status dengan fungsi lain.\n",
    "pemrograman fungsional tidak melakukan iterasi dalam struktur data seperti list, stack dan lain-lain. Untuk melakukan iterasi terhadap data, teknik yang digunakan biasanya dengan fungsi map() dan reduce().\n",
    "Cara kerjanya, fungsi map() berguna mengumpulkan item sebagai elemen baru dan disimpan dalam koleksi kosong. Fungsi map() melakukan iterasi untuk setiap koleksi dan menyimpan setiap nilai dalam koleksi baru yang kemudian dikembalikan sebagai koleksi baru."
   ]
  },
  {
   "cell_type": "code",
   "execution_count": 26,
   "metadata": {},
   "outputs": [
    {
     "data": {
      "text/plain": [
       "30"
      ]
     },
     "execution_count": 26,
     "metadata": {},
     "output_type": "execute_result"
    }
   ],
   "source": [
    "def add(a, b):\n",
    "    return a * b\n",
    "\n",
    "perkalian = add\n",
    "perkalian(5, 6)"
   ]
  },
  {
   "cell_type": "code",
   "execution_count": 33,
   "metadata": {},
   "outputs": [
    {
     "data": {
      "text/plain": [
       "['Isaac Asimov',\n",
       " 'Ray Bradbury',\n",
       " 'Octavia Butler',\n",
       " 'Neal Stephenson',\n",
       " 'Margaret Atwood',\n",
       " 'Usula K Le Guin']"
      ]
     },
     "execution_count": 33,
     "metadata": {},
     "output_type": "execute_result"
    }
   ],
   "source": [
    "authors = ['Octavia Butler', 'Isaac Asimov', 'Neal Stephenson', 'Margaret Atwood', 'Usula K Le Guin', 'Ray Bradbury']\n",
    "sorted(authors, key=len)  # Returns list ordered by length of author name\n",
    "sorted(authors, key=lambda name: name.split()[-1]) # Returns list ordered alphabetically by last name."
   ]
  },
  {
   "cell_type": "code",
   "execution_count": null,
   "metadata": {},
   "outputs": [],
   "source": []
  },
  {
   "cell_type": "code",
   "execution_count": null,
   "metadata": {},
   "outputs": [],
   "source": []
  }
 ],
 "metadata": {
  "kernelspec": {
   "display_name": "Python 3",
   "language": "python",
   "name": "python3"
  },
  "language_info": {
   "codemirror_mode": {
    "name": "ipython",
    "version": 3
   },
   "file_extension": ".py",
   "mimetype": "text/x-python",
   "name": "python",
   "nbconvert_exporter": "python",
   "pygments_lexer": "ipython3",
   "version": "3.8.5"
  }
 },
 "nbformat": 4,
 "nbformat_minor": 4
}
