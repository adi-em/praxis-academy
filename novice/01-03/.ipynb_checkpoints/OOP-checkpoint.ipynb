{
 "cells": [
  {
   "cell_type": "markdown",
   "metadata": {},
   "source": [
    "## Object Oriented Programming (OOP)\n",
    "\n",
    "#### pengertian OOP\n",
    "\n",
    "Pemrograman berorientasi objek atau dalam bahasa inggris disebut Object Oriented Programming (OOP) adalah paradigma atau teknik pemrograman di mana semua hal dalam program dimodelkan seperti objek dalam dunia nyata. Objek di dunia nyata memiliki ciri atau attribut dan juga aksi atau kelakuan.\n",
    "\n",
    "Kita misalkan sebuah mobil. Mobil memiliki ciri punya ban, stang, kursi, pedal gas, rem, dan lain sebagainya. Ada juga ciri warna, atau tahun keluaran berapa. Selain punya ciri, mobil juga punya aksi atau sesuatu yang bisa dilakukan olehnya. Misalnya, ketika pedal diinjak apa yang terjadi. Ketika di rem apa yang terjadi, dan lain sebagainya.\n",
    "\n",
    "Program juga demikian. Semua unit dalam program bisa dianggap sebagai objek. Objek besar dibangun dari objek – objek yang lebih kecil. Objek yang satu berinteraksi dengan objek yang lain, sehingga semua menjadi sebuah kesatuan yang utuh.\n",
    "\n",
    "istilah-istilah dalam oop\n",
    "\n",
    "- **Class** adalah cetak biru atau prototipe dari objek dimana kita mendefinisikan atribut dari suatu objek. Atribut ini terdiri dari data member (variabel) dan fungsi (metode).\n",
    "\n",
    "- **Class variable** adalah variabel yang dishare atau dibagi oleh semua instance (turunan) dari kelas. Variabel kelas didefinisikan di dalam kelas, tapi di luar metode-metode yang ada dalam kelas tersebut.\n",
    "\n",
    "- **Data member** adalah variabel yang menyimpan data yang berhubungan dengan kelas dan objeknya\n",
    "\n",
    "- **Function overloading** fungsi adalah fungsi yang memiliki nama yang sama di dalam kelas, tapi dengan jumlah dan tipe argumen yang berbeda sehingga dapat melakukan beberapa hal yang berbeda.\n",
    "\n",
    "- **Operator overloading** adalah pembuatan beberapa fungsi atau kegunaan untuk suatu operator. Misalnya operator + dibuat tidak hanya untuk penjumlahan, tapi juga untuk fungsi lain.\n",
    "\n",
    "- **Instance variable** adalah variabel yang didefinisikan di dalam suatu metode dan hanya menjadi milik dari instance kelas.\n",
    "\n",
    "- **Inheritansi** adalah pewarisan karakteristik sebuah kelas ke kelas lain yang menjadi turunannya.\n",
    "\n",
    "- **Instance** adalah istilah lain dari objek suatu kelas. Sebuah objek yang dibuat dari prototipe kelas Lingkaran misalnya disebut sebagai instance dari kelas tersebut.\n",
    "\n",
    "- Instansiasi – Instansiasi adalah pembuatan instance/objek dari suatu kelas\n",
    "\n",
    "- **Metode** adalah fungsi yang didefinisikan di dalam suatu kelas\n",
    "\n",
    "- **Object** adalah instansiasi atau perwujudan dari sebuah kelas. Bila kelas adalah prototipenya, dan objek adalah barang jadinya."
   ]
  },
  {
   "cell_type": "code",
   "execution_count": null,
   "metadata": {},
   "outputs": [],
   "source": []
  },
  {
   "cell_type": "code",
   "execution_count": 8,
   "metadata": {},
   "outputs": [
    {
     "name": "stdout",
     "output_type": "stream",
     "text": [
      "Nama : adi\n",
      "Gaji : 10000\n",
      "\n",
      "Nama : ida\n",
      "Gaji : 60000\n",
      "\n",
      "total karyawan: 2\n"
     ]
    }
   ],
   "source": [
    "class Karyawan:\n",
    "    '''Dasar kelas untuk semua karyawan'''\n",
    "    jumlah_karyawan = 0\n",
    "\n",
    "    def __init__(self, nama, gaji):\n",
    "        self.nama = nama\n",
    "        self.gaji = gaji\n",
    "        Karyawan.jumlah_karyawan += 1\n",
    "\n",
    "    def tampilkan_jumlah(self):\n",
    "        print(\"Total karyawan:\", Karyawan.jumlah_karyawan)\n",
    "\n",
    "    def tampilkan_profil(self):\n",
    "        print(\"Nama :\", self.nama)\n",
    "        print(\"Gaji :\", self.gaji)\n",
    "        print()\n",
    "        \n",
    "karyawan1 = Karyawan('adi', 10000)\n",
    "karyawan2 = Karyawan('ida', 60000)\n",
    "\n",
    "karyawan1.tampilkan_profil()\n",
    "karyawan2.tampilkan_profil()\n",
    "print(\"total karyawan:\", Karyawan.jumlah_karyawan )"
   ]
  },
  {
   "cell_type": "code",
   "execution_count": 10,
   "metadata": {},
   "outputs": [
    {
     "name": "stdout",
     "output_type": "stream",
     "text": [
      "hello sleman\n",
      "adi punya speed normal\n"
     ]
    }
   ],
   "source": [
    "class Player:\n",
    "\n",
    "    def __init__(self, name):\n",
    "        self.name = name\n",
    "\n",
    "    def getName(self):\n",
    "        return self.name\n",
    "\n",
    "\n",
    "    def getSkill(self):\n",
    "        return 'normal'\n",
    "\n",
    "class SlemanPlayer(Player):\n",
    "    def __init__(self, name):\n",
    "        super().__init__(name)\n",
    "        print(\"hello sleman\")\n",
    "\n",
    "class BantulPlayer(Player):\n",
    "    def getSkill(self):\n",
    "        return 'lambat'\n",
    "\n",
    "\n",
    "\n",
    "\n",
    "player = SlemanPlayer('adi ')\n",
    "\n",
    "print(player.getName() + \"punya speed \" + player.getSkill())"
   ]
  },
  {
   "cell_type": "markdown",
   "metadata": {},
   "source": [
    "#### CRC CARD\n",
    "\n",
    "Kartu CRC (Class Responsibility Collaborator) sendiri merupakan kumpulan kartu indeks standar yang telah dibagi menjadi tiga bagian yaitu class, responsibilities, dan collaborator. Sebelum membuat kartu CRC kita sudah harus tahu terlebih dahulu kelas apa saja yang ada dalam sistem yang kita buat\n",
    "\n",
    "* bagian atas adalah class\n",
    "* bagian bawah kiri responsibility\n",
    "* bagian bawah kanan collaborator"
   ]
  },
  {
   "attachments": {},
   "cell_type": "markdown",
   "metadata": {},
   "source": []
  },
  {
   "cell_type": "code",
   "execution_count": null,
   "metadata": {},
   "outputs": [],
   "source": []
  },
  {
   "cell_type": "code",
   "execution_count": null,
   "metadata": {},
   "outputs": [],
   "source": []
  }
 ],
 "metadata": {
  "kernelspec": {
   "display_name": "Python 3",
   "language": "python",
   "name": "python3"
  },
  "language_info": {
   "codemirror_mode": {
    "name": "ipython",
    "version": 3
   },
   "file_extension": ".py",
   "mimetype": "text/x-python",
   "name": "python",
   "nbconvert_exporter": "python",
   "pygments_lexer": "ipython3",
   "version": "3.8.5"
  }
 },
 "nbformat": 4,
 "nbformat_minor": 4
}
