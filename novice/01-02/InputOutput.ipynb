{
 "cells": [
  {
   "cell_type": "markdown",
   "metadata": {},
   "source": [
    "# Input dan Output\n",
    "\n",
    "Pada python, fungsi untuk mendapatkan data masukkan secara manual adalah input(), sedangkan yang bertindak untuk menampilkan hasil proses dari data masukan tadi adalah print(). Keduanya merupakan fungsi bawaan python atau sebutan lainnya built-in function.\n",
    "\n",
    "cara penulisan input"
   ]
  },
  {
   "cell_type": "code",
   "execution_count": null,
   "metadata": {},
   "outputs": [],
   "source": [
    ">>> nama = input(\"nama kamu siapa:\")\n",
    "nama kamu siapa:adi murdiono\n",
    "\n",
    ">>> nama\n",
    "'adi murdiono'\n",
    "\n",
    ">>> umur = input(\"umur kamu berapa:\")\n",
    "umur kamu berapa:17\n",
    "\n",
    ">>> umur\n",
    "'17'\n",
    ">>> tinggi = int(input(\"tinggi kamu berapa:\"))\n",
    "tinggi kamu berapa:175\n",
    "\n",
    ">>> tinggi\n",
    "175\n",
    "\n",
    ">>> berat = int(input(\"berat saya:\"))\n",
    "berat saya:90\n",
    "\n",
    ">>> berat\n",
    "90\n",
    "\n",
    ">>> print(\"Perkenalkan nama saya %s dan saya berusia %s. Tinggi badan saya %i cm dan berat %i kg\" % (nama, umur, tinggi, berat))\n",
    "Perkenalkan nama saya adi murdiono dan saya berusia 17. Tinggi badan saya 175 cm dan berat 90 kg\n",
    ">>> "
   ]
  },
  {
   "cell_type": "markdown",
   "metadata": {},
   "source": [
    "\n",
    "kegunaan tanda % \n",
    "* %s mewakili tipe String\n",
    "* %i mewakili tipe integer\n",
    "* %f mewakili tipe float (menampilkan hingga 6 digit angka di belakang koma) \n",
    "\n",
    "silahkan bisa coba diterminal\n",
    "\n"
   ]
  }
 ],
 "metadata": {
  "celltoolbar": "Slideshow",
  "kernelspec": {
   "display_name": "Python 3",
   "language": "python",
   "name": "python3"
  },
  "language_info": {
   "codemirror_mode": {
    "name": "ipython",
    "version": 3
   },
   "file_extension": ".py",
   "mimetype": "text/x-python",
   "name": "python",
   "nbconvert_exporter": "python",
   "pygments_lexer": "ipython3",
   "version": "3.8.5"
  }
 },
 "nbformat": 4,
 "nbformat_minor": 4
}
