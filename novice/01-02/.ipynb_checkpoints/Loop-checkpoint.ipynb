{
 "cells": [
  {
   "cell_type": "markdown",
   "metadata": {},
   "source": [
    "# Loop\n",
    "\n",
    "#### Pengertian Loop\n",
    "\n",
    "Loop atau Perualangan dalam bahasa pemrograman berfungsi menyuruh komputer melakukan sesuatu secara berulang-ulang. Terdapat dua jenis perualangan dalam bahasa pemrograman python, yaitu perulangan dengan for dan while.\n",
    "\n",
    "Perulangan for disebut counted loop (perulangan yang terhitung), sementara perulangan while disebut uncounted loop (perulangan yang tak terhitung). Perbedaannya adalah perulangan for biasanya digunakan untuk mengulangi kode yang sudah diketahui banyak perulangannya. Sementara while untuk perulangan yang memiliki syarat dan tidak tentu berapa banyak perulangannya.\n",
    "\n",
    "contoh simple perulangan for dan while:"
   ]
  },
  {
   "cell_type": "code",
   "execution_count": 13,
   "metadata": {},
   "outputs": [
    {
     "name": "stdout",
     "output_type": "stream",
     "text": [
      "Perulangan ke-0\n",
      "Perulangan ke-1\n",
      "Perulangan ke-2\n",
      "Perulangan ke-3\n",
      "Perulangan ke-4\n",
      "Perulangan ke-5\n",
      "Perulangan ke-6\n",
      "Perulangan ke-7\n",
      "Perulangan ke-8\n",
      "Perulangan ke-9\n",
      "Saya suka motor honda\n",
      "Saya suka motor yamaha\n",
      "Saya suka motor kawasaki\n"
     ]
    }
   ],
   "source": [
    "ulang = 10\n",
    "\n",
    "for i in range(ulang):         #berfungsi untuk membuat list dengan range dari 0-10.\n",
    "    print (\"Perulangan ke-\"+str(i))  #str() berfungsi merubah tipe data ineger ke string.\n",
    "    \n",
    "\n",
    "motor = [\"honda\", \"yamaha\", \"kawasaki\"]\n",
    "for kendaraan in motor:\n",
    "    print (\"Saya suka motor\", kendaraan)"
   ]
  },
  {
   "cell_type": "code",
   "execution_count": 19,
   "metadata": {},
   "outputs": [
    {
     "name": "stdout",
     "output_type": "stream",
     "text": [
      "nomor: 1\n",
      "nomor: 2\n",
      "nomor: 3\n",
      "nomor: 4\n",
      "nomor: 5\n",
      "nomor: 6\n",
      "nomor: 7\n",
      "nomor: 8\n",
      "selesai!\n"
     ]
    }
   ],
   "source": [
    "angka = 1\n",
    "while (angka < 9):\n",
    "    print (\"nomor:\", angka)\n",
    "    angka = angka + 1\n",
    "\n",
    "print (\"selesai!\")"
   ]
  },
  {
   "cell_type": "code",
   "execution_count": null,
   "metadata": {},
   "outputs": [],
   "source": []
  }
 ],
 "metadata": {
  "kernelspec": {
   "display_name": "Python 3",
   "language": "python",
   "name": "python3"
  },
  "language_info": {
   "codemirror_mode": {
    "name": "ipython",
    "version": 3
   },
   "file_extension": ".py",
   "mimetype": "text/x-python",
   "name": "python",
   "nbconvert_exporter": "python",
   "pygments_lexer": "ipython3",
   "version": "3.8.5"
  }
 },
 "nbformat": 4,
 "nbformat_minor": 4
}
