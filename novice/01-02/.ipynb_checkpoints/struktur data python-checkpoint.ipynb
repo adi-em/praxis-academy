{
 "cells": [
  {
   "cell_type": "markdown",
   "metadata": {},
   "source": [
    "# Hari ke-2\n",
    "\n",
    "## Dasar-dasar Pemograman Python\n",
    "\n",
    "### Struktur data di python\n",
    "\n",
    "#### List\n",
    "\n",
    "List adalah struktur data pada python yang mampu menyimpan lebih dari satu data, seperti array.\n",
    "\n",
    "list juga bisa di isi lebih dari satu, dengan cara memisahkan isi dengan tanda koma.\n",
    "\n",
    "perbedaan list dengan array yaitu array haya menyimpan data dengan tipe yang sama, sedangkan list dapat menyimpan banyak data dengan tipe yang berbeda-beda.\n",
    "\n",
    "contoh penulisan list"
   ]
  },
  {
   "cell_type": "code",
   "execution_count": 35,
   "metadata": {},
   "outputs": [
    {
     "name": "stdout",
     "output_type": "stream",
     "text": [
      "data\n",
      "pwd\n",
      "[2.5, 'pwd']\n",
      "tampilkan data ke-2 adalah: adi\n"
     ]
    }
   ],
   "source": [
    "data_kosong = []            #penulisan list\n",
    "\n",
    "data = [3, \"adi\", 2.5, 'pwd']      #list yang mempunyai tipe data yang berbeda-beda\n",
    "\n",
    "print (\"data\")\n",
    "print (data[3])                    #mengambil isi list no 3 dari depan\n",
    "print (data[len(data)-2:])         #mengambil isi list dari belakang sampai no 2 dari belakang\n",
    "print (\"tampilkan data ke-2 adalah: {}\".format(data[1]))\n"
   ]
  },
  {
   "cell_type": "markdown",
   "metadata": {},
   "source": [
    "Ada dua metode (method) atau fungsi yang bisa digunakan untuk menambahkan isi atau item ke List:\n",
    "\n",
    "1. *append* (item) menambahkan item dari belakang\n",
    "2. *insert* (index, item) menambahkan item dari index tertentu\n",
    "\n",
    "contoh:"
   ]
  },
  {
   "cell_type": "code",
   "execution_count": 100,
   "metadata": {},
   "outputs": [
    {
     "name": "stdout",
     "output_type": "stream",
     "text": [
      "['sartono', 'sulis', 'sartiem', 'hartono']\n",
      "['mardi', 'jimin', 'rokim']\n"
     ]
    }
   ],
   "source": [
    "#contoh append\n",
    "kawan = ['sartono', 'sulis', 'sartiem']\n",
    "kawan.append('hartono')                 #hartono akan muncul di belakang\n",
    "\n",
    "print (kawan)\n",
    "\n",
    "#contoh insert\n",
    "sahabat = ['mardi', 'rokim']\n",
    "sahabat.insert(1, 'jimin')             #jimin akan tampil sesuai input yang kita masukan pada insert\n",
    "\n",
    "print (sahabat)"
   ]
  },
  {
   "cell_type": "markdown",
   "metadata": {},
   "source": [
    "untuk menghapus list kita bisa gunakan perintah *del* atau bisa juga menggunakan *remove*"
   ]
  },
  {
   "cell_type": "code",
   "execution_count": 99,
   "metadata": {},
   "outputs": [
    {
     "name": "stdout",
     "output_type": "stream",
     "text": [
      "['python', 'php']\n"
     ]
    }
   ],
   "source": [
    "bahasa_pemograman = [\n",
    "    'python',\n",
    "    'php',\n",
    "    'c++',\n",
    "    'pascal'\n",
    "]\n",
    "\n",
    "del bahasa_pemograman[3]               #perintah delete\n",
    "bahasa_pemograman.remove(\"c++\")       #perintah remove\n",
    "print (bahasa_pemograman)"
   ]
  },
  {
   "cell_type": "markdown",
   "metadata": {},
   "source": [
    "list juga dapat di potong dengan perintah seperti dibawah ini"
   ]
  },
  {
   "cell_type": "code",
   "execution_count": 79,
   "metadata": {},
   "outputs": [
    {
     "name": "stdout",
     "output_type": "stream",
     "text": [
      "['india', 'korea', 'jepang']\n"
     ]
    }
   ],
   "source": [
    "negara = [\"indonesia\", \"india\", \"korea\", \"jepang\", \"singapura\"]\n",
    "\n",
    "print (negara[1:4])       #perintah potong list"
   ]
  },
  {
   "cell_type": "markdown",
   "metadata": {},
   "source": [
    "List dapat juga memiliki lebih dari satu dimensi atau disebut dengan multi dimensi.\n",
    "\n",
    "List multi dimensi biasanya digunakan untuk menyimpan struktur data yang kompleks seperti tabel, matriks, graph, tree."
   ]
  },
  {
   "cell_type": "code",
   "execution_count": 101,
   "metadata": {
    "scrolled": true
   },
   "outputs": [
    {
     "name": "stdout",
     "output_type": "stream",
     "text": [
      "Es Kopi\n",
      "Kopi\n",
      "Susu\n",
      "Teh\n",
      "Jus Apel\n",
      "Jus Melon\n",
      "Jus Jeruk\n",
      "Es Kopi\n",
      "Es Campur\n",
      "Es Teler\n"
     ]
    }
   ],
   "source": [
    "list_minuman = [\n",
    "    [\"Kopi\", \"Susu\", \"Teh\"],\n",
    "    [\"Jus Apel\", \"Jus Melon\", \"Jus Jeruk\"],\n",
    "    [\"Es Kopi\", \"Es Campur\", \"Es Teler\"]\n",
    "]\n",
    "\n",
    "print (list_minuman[2][0])      #perintah 2 mengambil colom dan 0 mengambil baris\n",
    "for menu in list_minuman:       #perintah perulangan \n",
    "    for minuman in menu:\n",
    "        print (minuman)"
   ]
  },
  {
   "cell_type": "markdown",
   "metadata": {},
   "source": [
    "kenapa bisa tampil es kopi, karena Angka 2 pada kode di atas menujukan indeks list yang akan kita akses.\n",
    "intinya angka 2 mengambil colom dan 0 mengambil baris\n",
    "\n"
   ]
  },
  {
   "cell_type": "markdown",
   "metadata": {},
   "source": [
    "Operasi List \n",
    "\n",
    "Ada beberapa operasi yang bisa dilakukan terhadap List Aritmatika\n",
    "\n",
    "penggabungan +\n",
    "perkalian *\n",
    "pembagian /\n",
    "pengurangan -\n",
    "bagi sisa %\n",
    "pemangkatan **\n",
    "\n",
    "masih ada banyak operasi list pada python seperti:\n",
    "1. Operator Pembanding/Relasi\n",
    "2. Operator Penugasan\n",
    "3. Opeartor Logika\n",
    "4. Operator Bitwise\n",
    "5. Operator Ternary"
   ]
  },
  {
   "cell_type": "code",
   "execution_count": null,
   "metadata": {},
   "outputs": [],
   "source": [
    "a = 'cinta '\n",
    "b = 'kamu'\n",
    "c = 2\n",
    "d = 5\n",
    "\n",
    "penggabungan = a + b\n",
    "perkalian = c * d\n",
    "pengurangan = c - d\n",
    "pembagian = c / d\n",
    "sisa_bagi = d % c\n",
    "pemangkatan = c**d\n",
    "\n",
    "print (penggabungan)\n",
    "print (perkalian)\n",
    "print (pengurangan)\n",
    "print (pembagian)\n",
    "print (sisa_bagi)\n",
    "print (pemangkatan)"
   ]
  },
  {
   "cell_type": "markdown",
   "metadata": {},
   "source": [
    "Tuple\n",
    "\n",
    "Tuple dalam Python adalah stuktur data yang digunakan untuk menyimpan sekumpulan data. Tupe bersifat immutable, artinya isi tuple tidak bisa kita ubah dan hapus. Namun, dapat kita isi dengan berbagai macam nilai dan objek.\n",
    "sama seperti list, Tuple juga memiliki indeks untuk Mengakses item di dalamnya. Indeks Tuple dan list selalu dimulai dari nol 0.\n",
    "\n",
    "\n",
    "cara pembuatan tuple:"
   ]
  },
  {
   "cell_type": "code",
   "execution_count": 105,
   "metadata": {},
   "outputs": [
    {
     "name": "stdout",
     "output_type": "stream",
     "text": [
      "(245, 'hai')\n",
      "(654, 'juga')\n"
     ]
    }
   ],
   "source": [
    "a = (245, 'hai')\n",
    "b = 654, 'juga'\n",
    "\n",
    "print (a)\n",
    "print (b)"
   ]
  },
  {
   "cell_type": "markdown",
   "metadata": {},
   "source": [
    "Lalu untuk membuat Tuple yang hanya berisi satu (singleton), maka kita harus manambahkan tanda koma di belakangnnya.\n",
    "jika tidak dikasih koma di belakang, akan dianggap string"
   ]
  },
  {
   "cell_type": "code",
   "execution_count": 109,
   "metadata": {},
   "outputs": [
    {
     "name": "stdout",
     "output_type": "stream",
     "text": [
      "('kabar',)\n",
      "kamu\n"
     ]
    }
   ],
   "source": [
    "a = 'kabar',      #ini tuple\n",
    "b = 'kamu'       #ini string\n",
    "\n",
    "print (a)\n",
    "print (b)"
   ]
  },
  {
   "cell_type": "markdown",
   "metadata": {},
   "source": [
    "di tuple juga bisa memotong dan juga mengambil panjang, dengan cara:"
   ]
  },
  {
   "cell_type": "code",
   "execution_count": 113,
   "metadata": {},
   "outputs": [
    {
     "name": "stdout",
     "output_type": "stream",
     "text": [
      "('instagram', 'youtube')\n",
      "Jumlah aplikasi: 4\n"
     ]
    }
   ],
   "source": [
    "aplikasi = ('facebook', 'instagram', 'youtube', 'twiter')\n",
    "\n",
    "print (aplikasi[1:3])\n",
    "print(\"Jumlah aplikasi: %d\" % len(aplikasi))"
   ]
  },
  {
   "cell_type": "markdown",
   "metadata": {},
   "source": [
    "tuple nested, tuple bisa diisi dengan tuple"
   ]
  },
  {
   "cell_type": "code",
   "execution_count": 115,
   "metadata": {},
   "outputs": [
    {
     "name": "stdout",
     "output_type": "stream",
     "text": [
      "(('kamu', 'tadi', 'pulang'), ('sama', 'siapa'))\n"
     ]
    }
   ],
   "source": [
    "tuple1 = 'kamu', 'tadi', 'pulang'\n",
    "tuple2 = 'sama', 'siapa'\n",
    "tuple3 = (tuple1, tuple2)\n",
    "\n",
    "print (tuple3)"
   ]
  },
  {
   "cell_type": "markdown",
   "metadata": {},
   "source": [
    "Proses pembuatan Tuble bisa kita sebut sebagai packing, sementara untuk mengambil (ekstrak) seluruh isinya disebut unpacking.\n",
    "\n",
    "Dengan melakukan upacking, isi tuple akan di-copy ke variabel. Lalu dengan variabel kita bisa melakukan apapun, seperti mengubah isinya. Karena variabel bersifat mutable."
   ]
  },
  {
   "cell_type": "code",
   "execution_count": 116,
   "metadata": {},
   "outputs": [
    {
     "name": "stdout",
     "output_type": "stream",
     "text": [
      "adi\n",
      "170.9\n",
      "pwd\n"
     ]
    }
   ],
   "source": [
    "biodata = 'adi', 170.9, 'pwd'      #tuple\n",
    "\n",
    "nama, tinggi, alamat = biodata      #unpacking\n",
    "\n",
    "print(nama)\n",
    "print(tinggi)\n",
    "print(alamat)"
   ]
  },
  {
   "cell_type": "markdown",
   "metadata": {},
   "source": [
    "Set\n",
    "\n",
    "Set merupakan tipe data tak berurut, karena pada set tidak dikenal yang namanya indeks. Jadi posisi setiap anggota set tidak jelas. Meskipun begitu set memiliki kelebihan yang tidak dimiliki tipe data lain yaitu set memiliki anggota yang unik (unique), yang artinya antar anggota satu dengan yang lain tidak ada yang sama (duplikat).\n",
    "\n",
    "Untuk membuat set kita butuh tanda kurung kurawal dengan setiap anggota di dalamnya dipisahkan dengan tanda koma.\n",
    "\n",
    "bahwa set bersifat unik yang memungkinkan kita untuk memiliki anggota yang berbeda nilainya, tidak ada yang sama antar setiap anggota. Jika ada anggota yang nilainya sama maka akan dipilih salah satu yang paling dulu dimasukkan, sedangkan yang satunya lagi akan diabaikan atau dihapus."
   ]
  },
  {
   "cell_type": "code",
   "execution_count": 118,
   "metadata": {},
   "outputs": [
    {
     "name": "stdout",
     "output_type": "stream",
     "text": [
      "{1, 2, 3, 'angka'}\n"
     ]
    }
   ],
   "source": [
    "nomor = {1, 2, 3, 'angka', 3}\n",
    "\n",
    "print (nomor)"
   ]
  },
  {
   "cell_type": "code",
   "execution_count": null,
   "metadata": {},
   "outputs": [],
   "source": []
  }
 ],
 "metadata": {
  "kernelspec": {
   "display_name": "Python 3",
   "language": "python",
   "name": "python3"
  },
  "language_info": {
   "codemirror_mode": {
    "name": "ipython",
    "version": 3
   },
   "file_extension": ".py",
   "mimetype": "text/x-python",
   "name": "python",
   "nbconvert_exporter": "python",
   "pygments_lexer": "ipython3",
   "version": "3.8.5"
  }
 },
 "nbformat": 4,
 "nbformat_minor": 4
}
