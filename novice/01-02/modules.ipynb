{
 "cells": [
  {
   "cell_type": "markdown",
   "metadata": {},
   "source": [
    "# Module\n",
    "\n",
    "#### pengertian module\n",
    "\n",
    "Modul adalah file yang berisi definisi dan pernyataan Python. Nama berkas adalah nama modul dengan akhiran .py diakhirnya. Dalam sebuah modul, nama modul (sebagai string) tersedia sebagai nilai variabel global __name__. "
   ]
  },
  {
   "cell_type": "code",
   "execution_count": null,
   "metadata": {},
   "outputs": [],
   "source": [
    "def tambah (a,b):\n",
    "    print(a,'+',b,'=',a+b)\n",
    "    print('penambahan')\n",
    "\n",
    "def perkalian(a,b):\n",
    "    print('perkalian')\n",
    "    return a + b\n",
    "    \n",
    "#simpan file dengan nama matematika.py"
   ]
  },
  {
   "cell_type": "code",
   "execution_count": null,
   "metadata": {},
   "outputs": [],
   "source": [
    "import matematika         #pemanggilan file matematika\n",
    "\n",
    "matematika.tambah(6,5)\n",
    "perkalian = matematika.perkalian(9,5)\n",
    "\n",
    "#simpan file dengan nama main.py"
   ]
  },
  {
   "cell_type": "markdown",
   "metadata": {},
   "source": [
    "Ada varian dari pernyataan import yang mengimpor nama dari modul langsung ke tabel simbol modul impor. Sebagai contoh:"
   ]
  },
  {
   "cell_type": "code",
   "execution_count": null,
   "metadata": {},
   "outputs": [],
   "source": [
    "import matematika as jumlah       #\"jumlah\" adalah pengganti nama \"matematika \"\n",
    "from matematika import tambah as jumlah    #bisa menggunakan program yg pertama dengan from\n",
    "from matematika import tambah, kurang      #dari file matematika kita import tambah dan kurang\n",
    "from matematika import *           #tanda * untuk mengimport semua fungsi yang ada didalam file matematika\n"
   ]
  }
 ],
 "metadata": {
  "kernelspec": {
   "display_name": "Python 3",
   "language": "python",
   "name": "python3"
  },
  "language_info": {
   "codemirror_mode": {
    "name": "ipython",
    "version": 3
   },
   "file_extension": ".py",
   "mimetype": "text/x-python",
   "name": "python",
   "nbconvert_exporter": "python",
   "pygments_lexer": "ipython3",
   "version": "3.8.5"
  }
 },
 "nbformat": 4,
 "nbformat_minor": 4
}
